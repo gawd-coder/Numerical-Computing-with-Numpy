{
  "nbformat": 4,
  "nbformat_minor": 0,
  "metadata": {
    "colab": {
      "name": "Untitled0.ipynb",
      "provenance": [],
      "collapsed_sections": []
    },
    "kernelspec": {
      "name": "python3",
      "display_name": "Python 3"
    }
  },
  "cells": [
    {
      "cell_type": "markdown",
      "metadata": {
        "id": "buZKkO7mjz1T",
        "colab_type": "text"
      },
      "source": [
        "***NumPy*** : provides a multidimensional\n",
        "array object to store homogeneous or heterogeneous data arrays and\n",
        "supports vectorization of code.\n",
        "\n",
        "Constructing arrays with lists :"
      ]
    },
    {
      "cell_type": "code",
      "metadata": {
        "id": "CeD2JxjtjuOl",
        "colab_type": "code",
        "colab": {
          "base_uri": "https://localhost:8080/",
          "height": 69
        },
        "outputId": "5fe2e232-67a7-4a7d-b185-1ee50acae1eb"
      },
      "source": [
        "v = [0.5, 0.75, 1.0, 1.5, 2.0]\n",
        "\n",
        "m = [v,v,v]\n",
        "m"
      ],
      "execution_count": 1,
      "outputs": [
        {
          "output_type": "execute_result",
          "data": {
            "text/plain": [
              "[[0.5, 0.75, 1.0, 1.5, 2.0],\n",
              " [0.5, 0.75, 1.0, 1.5, 2.0],\n",
              " [0.5, 0.75, 1.0, 1.5, 2.0]]"
            ]
          },
          "metadata": {
            "tags": []
          },
          "execution_count": 1
        }
      ]
    },
    {
      "cell_type": "code",
      "metadata": {
        "id": "3qESBxfZmZIx",
        "colab_type": "code",
        "colab": {
          "base_uri": "https://localhost:8080/",
          "height": 34
        },
        "outputId": "f0e0f67c-82bf-4279-d256-1a7562bb8215"
      },
      "source": [
        "m[1][0]"
      ],
      "execution_count": 2,
      "outputs": [
        {
          "output_type": "execute_result",
          "data": {
            "text/plain": [
              "0.5"
            ]
          },
          "metadata": {
            "tags": []
          },
          "execution_count": 2
        }
      ]
    },
    {
      "cell_type": "code",
      "metadata": {
        "id": "xu8KR43jnEHZ",
        "colab_type": "code",
        "colab": {
          "base_uri": "https://localhost:8080/",
          "height": 34
        },
        "outputId": "a9b27951-86de-4822-9174-5ddfe216e5cd"
      },
      "source": [
        "v1 = [0.5, 1.5]\n",
        "v2 = [1, 2]\n",
        "m = [v1, v2]\n",
        "c = [m, m]\n",
        "c"
      ],
      "execution_count": 3,
      "outputs": [
        {
          "output_type": "execute_result",
          "data": {
            "text/plain": [
              "[[[0.5, 1.5], [1, 2]], [[0.5, 1.5], [1, 2]]]"
            ]
          },
          "metadata": {
            "tags": []
          },
          "execution_count": 3
        }
      ]
    },
    {
      "cell_type": "code",
      "metadata": {
        "id": "AglIJclgniTs",
        "colab_type": "code",
        "colab": {
          "base_uri": "https://localhost:8080/",
          "height": 34
        },
        "outputId": "fcdbeb11-78eb-4b54-8491-7ea706b27a8b"
      },
      "source": [
        "c[1][1][0]"
      ],
      "execution_count": 9,
      "outputs": [
        {
          "output_type": "execute_result",
          "data": {
            "text/plain": [
              "1"
            ]
          },
          "metadata": {
            "tags": []
          },
          "execution_count": 9
        }
      ]
    },
    {
      "cell_type": "markdown",
      "metadata": {
        "id": "c9mlDwUMoZSd",
        "colab_type": "text"
      },
      "source": [
        "Instead of reference pointer, physical copies are used. As a consequence, a change in the original object does not have any impact anymore. We use ***deepcopy() function*** of the copy module for this"
      ]
    },
    {
      "cell_type": "code",
      "metadata": {
        "id": "DqgK1Cfunmzx",
        "colab_type": "code",
        "colab": {
          "base_uri": "https://localhost:8080/",
          "height": 69
        },
        "outputId": "3c7362fc-efcc-4d5a-8417-958c6aa5237d"
      },
      "source": [
        "from copy import deepcopy\n",
        "\n",
        "v = [0.5, 0.75, 1.0, 1.5, 2.0]\n",
        "\n",
        "m = 3 * [deepcopy(v), ]\n",
        "\n",
        "m"
      ],
      "execution_count": 10,
      "outputs": [
        {
          "output_type": "execute_result",
          "data": {
            "text/plain": [
              "[[0.5, 0.75, 1.0, 1.5, 2.0],\n",
              " [0.5, 0.75, 1.0, 1.5, 2.0],\n",
              " [0.5, 0.75, 1.0, 1.5, 2.0]]"
            ]
          },
          "metadata": {
            "tags": []
          },
          "execution_count": 10
        }
      ]
    },
    {
      "cell_type": "code",
      "metadata": {
        "id": "UiWQiBPqoyPT",
        "colab_type": "code",
        "colab": {
          "base_uri": "https://localhost:8080/",
          "height": 34
        },
        "outputId": "85e8e8fa-a89f-4855-9662-951fa642609b"
      },
      "source": [
        "v[0] = \"Python\"\n",
        "v"
      ],
      "execution_count": 13,
      "outputs": [
        {
          "output_type": "execute_result",
          "data": {
            "text/plain": [
              "['Python', 0.75, 1.0, 1.5, 2.0]"
            ]
          },
          "metadata": {
            "tags": []
          },
          "execution_count": 13
        }
      ]
    },
    {
      "cell_type": "code",
      "metadata": {
        "id": "SWovlh6uo1SN",
        "colab_type": "code",
        "colab": {
          "base_uri": "https://localhost:8080/",
          "height": 69
        },
        "outputId": "c8dc1908-0b55-482d-c774-162d57f2fc9e"
      },
      "source": [
        "m"
      ],
      "execution_count": 15,
      "outputs": [
        {
          "output_type": "execute_result",
          "data": {
            "text/plain": [
              "[[0.5, 0.75, 1.0, 1.5, 2.0],\n",
              " [0.5, 0.75, 1.0, 1.5, 2.0],\n",
              " [0.5, 0.75, 1.0, 1.5, 2.0]]"
            ]
          },
          "metadata": {
            "tags": []
          },
          "execution_count": 15
        }
      ]
    },
    {
      "cell_type": "markdown",
      "metadata": {
        "id": "W2wwi3bdpJ7P",
        "colab_type": "text"
      },
      "source": [
        "There is a dedicated ***array module*** available in Python. Arrays\n",
        "are sequence types and behave very much like lists, except that the type\n",
        "of objects stored in them is constrained. The type is specified at object\n",
        "creation time by using a type code, which is a single character."
      ]
    },
    {
      "cell_type": "code",
      "metadata": {
        "id": "yVJaNRz4o2vo",
        "colab_type": "code",
        "colab": {}
      },
      "source": [
        "v = [0.5, 0.75, 1.0, 1.5, 2.0]"
      ],
      "execution_count": 27,
      "outputs": []
    },
    {
      "cell_type": "code",
      "metadata": {
        "id": "QtOZR9G9pZa7",
        "colab_type": "code",
        "colab": {
          "base_uri": "https://localhost:8080/",
          "height": 34
        },
        "outputId": "6c15eba7-cb2e-4e4f-912a-0c71fcaae9fe"
      },
      "source": [
        "import array\n",
        "a = array.array(\"f\", v)\n",
        "a"
      ],
      "execution_count": 28,
      "outputs": [
        {
          "output_type": "execute_result",
          "data": {
            "text/plain": [
              "array('f', [0.5, 0.75, 1.0, 1.5, 2.0])"
            ]
          },
          "metadata": {
            "tags": []
          },
          "execution_count": 28
        }
      ]
    },
    {
      "cell_type": "code",
      "metadata": {
        "id": "r8G_tpY41sFZ",
        "colab_type": "code",
        "colab": {
          "base_uri": "https://localhost:8080/",
          "height": 34
        },
        "outputId": "01a90815-99f8-4d74-9550-f0a6481e1b54"
      },
      "source": [
        "a.append(0.5)\n",
        "a"
      ],
      "execution_count": 29,
      "outputs": [
        {
          "output_type": "execute_result",
          "data": {
            "text/plain": [
              "array('f', [0.5, 0.75, 1.0, 1.5, 2.0, 0.5])"
            ]
          },
          "metadata": {
            "tags": []
          },
          "execution_count": 29
        }
      ]
    },
    {
      "cell_type": "code",
      "metadata": {
        "id": "wMnAuMeL1xWm",
        "colab_type": "code",
        "colab": {
          "base_uri": "https://localhost:8080/",
          "height": 34
        },
        "outputId": "33cae370-907f-446e-89b4-3333cf728c9e"
      },
      "source": [
        "a.extend([5.0,6.75])\n",
        "a"
      ],
      "execution_count": 30,
      "outputs": [
        {
          "output_type": "execute_result",
          "data": {
            "text/plain": [
              "array('f', [0.5, 0.75, 1.0, 1.5, 2.0, 0.5, 5.0, 6.75])"
            ]
          },
          "metadata": {
            "tags": []
          },
          "execution_count": 30
        }
      ]
    },
    {
      "cell_type": "code",
      "metadata": {
        "id": "_jD1t6sK16Sv",
        "colab_type": "code",
        "colab": {
          "base_uri": "https://localhost:8080/",
          "height": 34
        },
        "outputId": "c81f28d0-69dd-47dc-e332-78434996ef93"
      },
      "source": [
        "2 * a"
      ],
      "execution_count": 31,
      "outputs": [
        {
          "output_type": "execute_result",
          "data": {
            "text/plain": [
              "array('f', [0.5, 0.75, 1.0, 1.5, 2.0, 0.5, 5.0, 6.75, 0.5, 0.75, 1.0, 1.5, 2.0, 0.5, 5.0, 6.75])"
            ]
          },
          "metadata": {
            "tags": []
          },
          "execution_count": 31
        }
      ]
    },
    {
      "cell_type": "markdown",
      "metadata": {
        "id": "5HNzBGPH2Nyo",
        "colab_type": "text"
      },
      "source": [
        "Trying to append an object of a different data type than the one specified\n",
        "raises a TypeError. However, the array object can easily be converted back to a list\n",
        "object if such flexibility is required."
      ]
    },
    {
      "cell_type": "code",
      "metadata": {
        "id": "hVOco-Y71_W3",
        "colab_type": "code",
        "colab": {
          "base_uri": "https://localhost:8080/",
          "height": 34
        },
        "outputId": "eb231146-bfd4-488b-ef06-3d2c3fd116c6"
      },
      "source": [
        "a.tolist()"
      ],
      "execution_count": 32,
      "outputs": [
        {
          "output_type": "execute_result",
          "data": {
            "text/plain": [
              "[0.5, 0.75, 1.0, 1.5, 2.0, 0.5, 5.0, 6.75]"
            ]
          },
          "metadata": {
            "tags": []
          },
          "execution_count": 32
        }
      ]
    },
    {
      "cell_type": "markdown",
      "metadata": {
        "id": "TZqMfxSx2VL0",
        "colab_type": "text"
      },
      "source": [
        "An advantage of the array class is that it has **built-in storage and retrieval\n",
        "functionality**:"
      ]
    },
    {
      "cell_type": "code",
      "metadata": {
        "id": "ZYvzMMXv2Q1E",
        "colab_type": "code",
        "colab": {}
      },
      "source": [
        "#open a file or a disk for writing binary data\n",
        "f = open(\"array.apy\", \"wb\")\n",
        "#writes array data to file\n",
        "a.tofile(f)\n",
        "#closes the file\n",
        "f.close()"
      ],
      "execution_count": 34,
      "outputs": []
    },
    {
      "cell_type": "code",
      "metadata": {
        "id": "enWvSuF42yUF",
        "colab_type": "code",
        "colab": {}
      },
      "source": [
        "#alternative for above process\n",
        "with open(\"array.apy\", \"wb\") as f:\n",
        "    a.tofile(f)"
      ],
      "execution_count": 35,
      "outputs": []
    },
    {
      "cell_type": "code",
      "metadata": {
        "id": "hK5PAE-03AQP",
        "colab_type": "code",
        "colab": {
          "base_uri": "https://localhost:8080/",
          "height": 34
        },
        "outputId": "eeb9f8c1-6c11-4573-d3f8-2473c657ab98"
      },
      "source": [
        "#shows the file written on disk\n",
        "!ls -n arr*"
      ],
      "execution_count": 44,
      "outputs": [
        {
          "output_type": "stream",
          "text": [
            "-rw-r--r-- 1 0 0 32 Aug 19 03:56 array.apy\n"
          ],
          "name": "stdout"
        }
      ]
    },
    {
      "cell_type": "code",
      "metadata": {
        "id": "kyjCMD5D3KZN",
        "colab_type": "code",
        "colab": {
          "base_uri": "https://localhost:8080/",
          "height": 34
        },
        "outputId": "f80a6231-4c81-48c5-bc62-7242d154afd1"
      },
      "source": [
        "#Instantiates a new array object with type code float .\n",
        "b = array.array(\"f\")\n",
        "\n",
        "with open('array.apy', \"rb\") as f:\n",
        "    #reads five elements in the b object\n",
        "    b.fromfile(f,5)\n",
        "\n",
        "b"
      ],
      "execution_count": 40,
      "outputs": [
        {
          "output_type": "execute_result",
          "data": {
            "text/plain": [
              "array('f', [0.5, 0.75, 1.0, 1.5, 2.0])"
            ]
          },
          "metadata": {
            "tags": []
          },
          "execution_count": 40
        }
      ]
    },
    {
      "cell_type": "code",
      "metadata": {
        "id": "0EAUxQ7d54fp",
        "colab_type": "code",
        "colab": {
          "base_uri": "https://localhost:8080/",
          "height": 34
        },
        "outputId": "87f29870-ec28-4045-aedb-2607d950f560"
      },
      "source": [
        "#Instantiates a new array object with type code double\n",
        "b = array.array(\"d\")\n",
        "\n",
        "with open(\"array.apy\", \"rb\") as f:\n",
        "    b.fromfile(f, 2)\n",
        "\n",
        "b"
      ],
      "execution_count": 46,
      "outputs": [
        {
          "output_type": "execute_result",
          "data": {
            "text/plain": [
              "array('d', [0.0004882813645963324, 0.12500002956949174])"
            ]
          },
          "metadata": {
            "tags": []
          },
          "execution_count": 46
        }
      ]
    },
    {
      "cell_type": "markdown",
      "metadata": {
        "id": "WpiTqRRA9gIa",
        "colab_type": "text"
      },
      "source": [
        "**numpy.ndarray** is just such a class, built with the specific goal of handling\n",
        "n-dimensional arrays both conveniently and efficiently — i.e., in a highly\n",
        "performant manner."
      ]
    },
    {
      "cell_type": "code",
      "metadata": {
        "id": "NNOsOdGP6agJ",
        "colab_type": "code",
        "colab": {
          "base_uri": "https://localhost:8080/",
          "height": 34
        },
        "outputId": "17241e9a-3c97-4326-88c1-f9ec582b5b0e"
      },
      "source": [
        "import numpy as np\n",
        "\n",
        "a = np.array([0, 0.5, 1.0, 1.5, 2.0])\n",
        "a"
      ],
      "execution_count": 47,
      "outputs": [
        {
          "output_type": "execute_result",
          "data": {
            "text/plain": [
              "array([0. , 0.5, 1. , 1.5, 2. ])"
            ]
          },
          "metadata": {
            "tags": []
          },
          "execution_count": 47
        }
      ]
    },
    {
      "cell_type": "code",
      "metadata": {
        "id": "hKB1z2XD9n_L",
        "colab_type": "code",
        "colab": {
          "base_uri": "https://localhost:8080/",
          "height": 34
        },
        "outputId": "273fc9c9-db2b-4641-8ac1-4a67d236ad93"
      },
      "source": [
        "type(a)"
      ],
      "execution_count": 49,
      "outputs": [
        {
          "output_type": "execute_result",
          "data": {
            "text/plain": [
              "numpy.ndarray"
            ]
          },
          "metadata": {
            "tags": []
          },
          "execution_count": 49
        }
      ]
    },
    {
      "cell_type": "code",
      "metadata": {
        "id": "4z6LXn6G9pnS",
        "colab_type": "code",
        "colab": {
          "base_uri": "https://localhost:8080/",
          "height": 34
        },
        "outputId": "79f31d7a-50fc-44fe-94fc-5ab291c9fd70"
      },
      "source": [
        "a = np.array(['a', 'b', 'c'])\n",
        "a"
      ],
      "execution_count": 50,
      "outputs": [
        {
          "output_type": "execute_result",
          "data": {
            "text/plain": [
              "array(['a', 'b', 'c'], dtype='<U1')"
            ]
          },
          "metadata": {
            "tags": []
          },
          "execution_count": 50
        }
      ]
    },
    {
      "cell_type": "markdown",
      "metadata": {
        "id": "S1xdtlcy-WZL",
        "colab_type": "text"
      },
      "source": [
        "np.arange()\n",
        "works similar to range() but takes as additional input the dtype parameter."
      ]
    },
    {
      "cell_type": "code",
      "metadata": {
        "id": "qD3sHYon91VG",
        "colab_type": "code",
        "colab": {
          "base_uri": "https://localhost:8080/",
          "height": 34
        },
        "outputId": "3f0c78cb-b9ee-4875-b3ef-a615773a1259"
      },
      "source": [
        "a = np.arange(8, dtype = np.float)\n",
        "a"
      ],
      "execution_count": 60,
      "outputs": [
        {
          "output_type": "execute_result",
          "data": {
            "text/plain": [
              "array([0., 1., 2., 3., 4., 5., 6., 7.])"
            ]
          },
          "metadata": {
            "tags": []
          },
          "execution_count": 60
        }
      ]
    },
    {
      "cell_type": "markdown",
      "metadata": {
        "id": "DNUjjY4J-icE",
        "colab_type": "text"
      },
      "source": [
        "A major feature of the ndarray class is the multitude of built-in methods."
      ]
    },
    {
      "cell_type": "code",
      "metadata": {
        "id": "v6HXLJZ-94A8",
        "colab_type": "code",
        "colab": {
          "base_uri": "https://localhost:8080/",
          "height": 34
        },
        "outputId": "c64f8be3-8dd1-4236-bb2a-f588d33f42cc"
      },
      "source": [
        "a.sum()"
      ],
      "execution_count": 61,
      "outputs": [
        {
          "output_type": "execute_result",
          "data": {
            "text/plain": [
              "28.0"
            ]
          },
          "metadata": {
            "tags": []
          },
          "execution_count": 61
        }
      ]
    },
    {
      "cell_type": "code",
      "metadata": {
        "id": "-QgpRGQu-jv8",
        "colab_type": "code",
        "colab": {
          "base_uri": "https://localhost:8080/",
          "height": 34
        },
        "outputId": "1ecaec40-fd26-4b54-aa01-d79dec7a9158"
      },
      "source": [
        "a.std()"
      ],
      "execution_count": 62,
      "outputs": [
        {
          "output_type": "execute_result",
          "data": {
            "text/plain": [
              "2.29128784747792"
            ]
          },
          "metadata": {
            "tags": []
          },
          "execution_count": 62
        }
      ]
    },
    {
      "cell_type": "code",
      "metadata": {
        "id": "R75WxLVm-lNx",
        "colab_type": "code",
        "colab": {
          "base_uri": "https://localhost:8080/",
          "height": 34
        },
        "outputId": "b1e69432-34f8-4c42-d2c2-c7bf90ac4560"
      },
      "source": [
        "a.cumsum()"
      ],
      "execution_count": 63,
      "outputs": [
        {
          "output_type": "execute_result",
          "data": {
            "text/plain": [
              "array([ 0.,  1.,  3.,  6., 10., 15., 21., 28.])"
            ]
          },
          "metadata": {
            "tags": []
          },
          "execution_count": 63
        }
      ]
    },
    {
      "cell_type": "markdown",
      "metadata": {
        "id": "KGfKWOR9C4ll",
        "colab_type": "text"
      },
      "source": [
        "Initialize (instantiate) ndarray objects"
      ]
    },
    {
      "cell_type": "code",
      "metadata": {
        "id": "SatqfbHc-mG8",
        "colab_type": "code",
        "colab": {
          "base_uri": "https://localhost:8080/",
          "height": 52
        },
        "outputId": "349c755b-215c-4bcb-ce01-1fb4dc320f35"
      },
      "source": [
        "c = np.zeros((2,3), dtype = \"i\", order = \"C\")\n",
        "c"
      ],
      "execution_count": 66,
      "outputs": [
        {
          "output_type": "execute_result",
          "data": {
            "text/plain": [
              "array([[0, 0, 0],\n",
              "       [0, 0, 0]], dtype=int32)"
            ]
          },
          "metadata": {
            "tags": []
          },
          "execution_count": 66
        }
      ]
    },
    {
      "cell_type": "code",
      "metadata": {
        "id": "Y-ZcAkWmDFoj",
        "colab_type": "code",
        "colab": {
          "base_uri": "https://localhost:8080/",
          "height": 139
        },
        "outputId": "e4ec295e-dec6-41bd-b564-bf1619fff53e"
      },
      "source": [
        "c = np.ones((2,3,4), dtype = \"i\", order = \"C\")\n",
        "c"
      ],
      "execution_count": 70,
      "outputs": [
        {
          "output_type": "execute_result",
          "data": {
            "text/plain": [
              "array([[[1, 1, 1, 1],\n",
              "        [1, 1, 1, 1],\n",
              "        [1, 1, 1, 1]],\n",
              "\n",
              "       [[1, 1, 1, 1],\n",
              "        [1, 1, 1, 1],\n",
              "        [1, 1, 1, 1]]], dtype=int32)"
            ]
          },
          "metadata": {
            "tags": []
          },
          "execution_count": 70
        }
      ]
    },
    {
      "cell_type": "code",
      "metadata": {
        "id": "cdt1hgylDptp",
        "colab_type": "code",
        "colab": {
          "base_uri": "https://localhost:8080/",
          "height": 139
        },
        "outputId": "b7c59aba-8780-4905-d2ee-4e6352b1a757"
      },
      "source": [
        "d = np.zeros_like(c, dtype = \"f16\", order = \"c\")\n",
        "d"
      ],
      "execution_count": 71,
      "outputs": [
        {
          "output_type": "execute_result",
          "data": {
            "text/plain": [
              "array([[[0., 0., 0., 0.],\n",
              "        [0., 0., 0., 0.],\n",
              "        [0., 0., 0., 0.]],\n",
              "\n",
              "       [[0., 0., 0., 0.],\n",
              "        [0., 0., 0., 0.],\n",
              "        [0., 0., 0., 0.]]], dtype=float128)"
            ]
          },
          "metadata": {
            "tags": []
          },
          "execution_count": 71
        }
      ]
    },
    {
      "cell_type": "code",
      "metadata": {
        "id": "AwtgWixQD7G5",
        "colab_type": "code",
        "colab": {
          "base_uri": "https://localhost:8080/",
          "height": 139
        },
        "outputId": "7c684536-c6e6-4bbf-a04e-1b816f6cde1c"
      },
      "source": [
        "d = np.ones_like(c, dtype = \"f16\", order = \"c\")\n",
        "d"
      ],
      "execution_count": 73,
      "outputs": [
        {
          "output_type": "execute_result",
          "data": {
            "text/plain": [
              "array([[[1., 1., 1., 1.],\n",
              "        [1., 1., 1., 1.],\n",
              "        [1., 1., 1., 1.]],\n",
              "\n",
              "       [[1., 1., 1., 1.],\n",
              "        [1., 1., 1., 1.],\n",
              "        [1., 1., 1., 1.]]], dtype=float128)"
            ]
          },
          "metadata": {
            "tags": []
          },
          "execution_count": 73
        }
      ]
    },
    {
      "cell_type": "code",
      "metadata": {
        "id": "zcjGJnOPEAJW",
        "colab_type": "code",
        "colab": {
          "base_uri": "https://localhost:8080/",
          "height": 139
        },
        "outputId": "4b1cb1ae-9bfc-4db8-ecf7-336b862e3d65"
      },
      "source": [
        "e = np.empty((2,3,2))\n",
        "e"
      ],
      "execution_count": 79,
      "outputs": [
        {
          "output_type": "execute_result",
          "data": {
            "text/plain": [
              "array([[[2.63965441e-316, 2.50395503e-312],\n",
              "        [2.37663529e-312, 2.41907520e-312],\n",
              "        [2.31297541e-312, 2.46151512e-312]],\n",
              "\n",
              "       [[2.41907520e-312, 2.44029516e-312],\n",
              "        [8.27578359e-313, 8.70018274e-313],\n",
              "        [3.99910963e+252, 2.66090406e-312]]])"
            ]
          },
          "metadata": {
            "tags": []
          },
          "execution_count": 79
        }
      ]
    },
    {
      "cell_type": "code",
      "metadata": {
        "id": "9XzTUrSDEFvc",
        "colab_type": "code",
        "colab": {
          "base_uri": "https://localhost:8080/",
          "height": 139
        },
        "outputId": "c22b4be8-f28a-4e76-a757-fb93bbd6c25c"
      },
      "source": [
        "f = np.empty_like(c)\n",
        "f"
      ],
      "execution_count": 81,
      "outputs": [
        {
          "output_type": "execute_result",
          "data": {
            "text/plain": [
              "array([[[  53427200,          0,        110,        118],\n",
              "        [        40,        112,         97,        114],\n",
              "        [        97,        109,        101,        116]],\n",
              "\n",
              "       [[       101,        114,         95,        115],\n",
              "        [        61,         39,         39,         41],\n",
              "        [ 775501625, 1952543859, 1702065013,        125]]], dtype=int32)"
            ]
          },
          "metadata": {
            "tags": []
          },
          "execution_count": 81
        }
      ]
    },
    {
      "cell_type": "code",
      "metadata": {
        "id": "tYdH9uanENI_",
        "colab_type": "code",
        "colab": {
          "base_uri": "https://localhost:8080/",
          "height": 104
        },
        "outputId": "5cab9e48-4255-4d65-b9d2-a62eaa109cc1"
      },
      "source": [
        "np.eye(5)"
      ],
      "execution_count": 82,
      "outputs": [
        {
          "output_type": "execute_result",
          "data": {
            "text/plain": [
              "array([[1., 0., 0., 0., 0.],\n",
              "       [0., 1., 0., 0., 0.],\n",
              "       [0., 0., 1., 0., 0.],\n",
              "       [0., 0., 0., 1., 0.],\n",
              "       [0., 0., 0., 0., 1.]])"
            ]
          },
          "metadata": {
            "tags": []
          },
          "execution_count": 82
        }
      ]
    },
    {
      "cell_type": "code",
      "metadata": {
        "id": "bjL_v_-cEjRK",
        "colab_type": "code",
        "colab": {
          "base_uri": "https://localhost:8080/",
          "height": 69
        },
        "outputId": "c1332b5b-1aa2-416c-c98c-1f130a3c8c7c"
      },
      "source": [
        "g = np.linspace(5,15,12)\n",
        "g"
      ],
      "execution_count": 86,
      "outputs": [
        {
          "output_type": "execute_result",
          "data": {
            "text/plain": [
              "array([ 5.        ,  5.90909091,  6.81818182,  7.72727273,  8.63636364,\n",
              "        9.54545455, 10.45454545, 11.36363636, 12.27272727, 13.18181818,\n",
              "       14.09090909, 15.        ])"
            ]
          },
          "metadata": {
            "tags": []
          },
          "execution_count": 86
        }
      ]
    },
    {
      "cell_type": "markdown",
      "metadata": {
        "id": "5NFHmyKOZokq",
        "colab_type": "text"
      },
      "source": [
        "***Metainformation -***\n",
        "Every ndarray object provides access to a number of useful attributes:"
      ]
    },
    {
      "cell_type": "code",
      "metadata": {
        "id": "lnfixo3fEoK8",
        "colab_type": "code",
        "colab": {
          "base_uri": "https://localhost:8080/",
          "height": 34
        },
        "outputId": "06930f2b-8dd9-4a89-a537-943a95653439"
      },
      "source": [
        "#number of elements\n",
        "g.size"
      ],
      "execution_count": 88,
      "outputs": [
        {
          "output_type": "execute_result",
          "data": {
            "text/plain": [
              "12"
            ]
          },
          "metadata": {
            "tags": []
          },
          "execution_count": 88
        }
      ]
    },
    {
      "cell_type": "code",
      "metadata": {
        "id": "YnOqGah5Z0X5",
        "colab_type": "code",
        "colab": {
          "base_uri": "https://localhost:8080/",
          "height": 34
        },
        "outputId": "25bac626-45da-44bb-8f89-0ce386b438f3"
      },
      "source": [
        "#number of bytes used to represent one element\n",
        "g.itemsize"
      ],
      "execution_count": 89,
      "outputs": [
        {
          "output_type": "execute_result",
          "data": {
            "text/plain": [
              "8"
            ]
          },
          "metadata": {
            "tags": []
          },
          "execution_count": 89
        }
      ]
    },
    {
      "cell_type": "code",
      "metadata": {
        "id": "iUTNyVJiZ9Ia",
        "colab_type": "code",
        "colab": {
          "base_uri": "https://localhost:8080/",
          "height": 34
        },
        "outputId": "23f8e68c-516a-4567-91c8-f5f349ecf14a"
      },
      "source": [
        "#number of dimensions\n",
        "g.ndim"
      ],
      "execution_count": 90,
      "outputs": [
        {
          "output_type": "execute_result",
          "data": {
            "text/plain": [
              "1"
            ]
          },
          "metadata": {
            "tags": []
          },
          "execution_count": 90
        }
      ]
    },
    {
      "cell_type": "code",
      "metadata": {
        "id": "bu24XW_faBRF",
        "colab_type": "code",
        "colab": {
          "base_uri": "https://localhost:8080/",
          "height": 34
        },
        "outputId": "25c4f8dd-f469-4b90-bd57-6c60d54a8612"
      },
      "source": [
        "#shape of ndarray\n",
        "g.shape"
      ],
      "execution_count": 91,
      "outputs": [
        {
          "output_type": "execute_result",
          "data": {
            "text/plain": [
              "(12,)"
            ]
          },
          "metadata": {
            "tags": []
          },
          "execution_count": 91
        }
      ]
    },
    {
      "cell_type": "code",
      "metadata": {
        "id": "vcBFpU6jaD7x",
        "colab_type": "code",
        "colab": {
          "base_uri": "https://localhost:8080/",
          "height": 34
        },
        "outputId": "0ce1c733-cf0d-4a34-bad5-470a2347277a"
      },
      "source": [
        "#dtype pf elements\n",
        "g.dtype"
      ],
      "execution_count": 92,
      "outputs": [
        {
          "output_type": "execute_result",
          "data": {
            "text/plain": [
              "dtype('float64')"
            ]
          },
          "metadata": {
            "tags": []
          },
          "execution_count": 92
        }
      ]
    },
    {
      "cell_type": "code",
      "metadata": {
        "id": "jFtVln-zaKEl",
        "colab_type": "code",
        "colab": {
          "base_uri": "https://localhost:8080/",
          "height": 34
        },
        "outputId": "f6fd1843-64ff-4b9a-8344-84aafaf73389"
      },
      "source": [
        "#total number of bytes used in memory\n",
        "g.nbytes"
      ],
      "execution_count": 93,
      "outputs": [
        {
          "output_type": "execute_result",
          "data": {
            "text/plain": [
              "96"
            ]
          },
          "metadata": {
            "tags": []
          },
          "execution_count": 93
        }
      ]
    },
    {
      "cell_type": "markdown",
      "metadata": {
        "id": "xA82856oaVeo",
        "colab_type": "text"
      },
      "source": [
        "***Reshaping and Resizing -***\n",
        "Although ndarray objects are immutable by default, there are multiple\n",
        "options to reshape and resize such an object. While reshaping in general\n",
        "just provides another view on the same data, resizing in general creates a\n",
        "new (temporary) object."
      ]
    },
    {
      "cell_type": "code",
      "metadata": {
        "id": "n-vaYDXWaPIt",
        "colab_type": "code",
        "colab": {
          "base_uri": "https://localhost:8080/",
          "height": 34
        },
        "outputId": "a8fd46e5-b03a-48af-95a5-f81797a04b80"
      },
      "source": [
        "g = np.arange(15)\n",
        "g"
      ],
      "execution_count": 95,
      "outputs": [
        {
          "output_type": "execute_result",
          "data": {
            "text/plain": [
              "array([ 0,  1,  2,  3,  4,  5,  6,  7,  8,  9, 10, 11, 12, 13, 14])"
            ]
          },
          "metadata": {
            "tags": []
          },
          "execution_count": 95
        }
      ]
    },
    {
      "cell_type": "code",
      "metadata": {
        "id": "kH8cZXa1abBf",
        "colab_type": "code",
        "colab": {
          "base_uri": "https://localhost:8080/",
          "height": 34
        },
        "outputId": "ff9637dd-b0e3-42ce-b776-6498097040e1"
      },
      "source": [
        "g.shape"
      ],
      "execution_count": 96,
      "outputs": [
        {
          "output_type": "execute_result",
          "data": {
            "text/plain": [
              "(15,)"
            ]
          },
          "metadata": {
            "tags": []
          },
          "execution_count": 96
        }
      ]
    },
    {
      "cell_type": "code",
      "metadata": {
        "id": "rc9BLWSvahZh",
        "colab_type": "code",
        "colab": {
          "base_uri": "https://localhost:8080/",
          "height": 69
        },
        "outputId": "836eabdb-6a8c-40cd-db31-1735dfa3381b"
      },
      "source": [
        "g.reshape(3,5)"
      ],
      "execution_count": 97,
      "outputs": [
        {
          "output_type": "execute_result",
          "data": {
            "text/plain": [
              "array([[ 0,  1,  2,  3,  4],\n",
              "       [ 5,  6,  7,  8,  9],\n",
              "       [10, 11, 12, 13, 14]])"
            ]
          },
          "metadata": {
            "tags": []
          },
          "execution_count": 97
        }
      ]
    },
    {
      "cell_type": "code",
      "metadata": {
        "id": "rtRPEA2wakAH",
        "colab_type": "code",
        "colab": {
          "base_uri": "https://localhost:8080/",
          "height": 104
        },
        "outputId": "2b66b4a0-e2a8-4593-d373-e1181fad3a50"
      },
      "source": [
        "h = g.reshape(5,3)\n",
        "h"
      ],
      "execution_count": 98,
      "outputs": [
        {
          "output_type": "execute_result",
          "data": {
            "text/plain": [
              "array([[ 0,  1,  2],\n",
              "       [ 3,  4,  5],\n",
              "       [ 6,  7,  8],\n",
              "       [ 9, 10, 11],\n",
              "       [12, 13, 14]])"
            ]
          },
          "metadata": {
            "tags": []
          },
          "execution_count": 98
        }
      ]
    },
    {
      "cell_type": "code",
      "metadata": {
        "id": "GG9PFuAEaowi",
        "colab_type": "code",
        "colab": {
          "base_uri": "https://localhost:8080/",
          "height": 69
        },
        "outputId": "1138191f-9d9c-41f1-a20d-972e5e39cdbf"
      },
      "source": [
        "h.T"
      ],
      "execution_count": 99,
      "outputs": [
        {
          "output_type": "execute_result",
          "data": {
            "text/plain": [
              "array([[ 0,  3,  6,  9, 12],\n",
              "       [ 1,  4,  7, 10, 13],\n",
              "       [ 2,  5,  8, 11, 14]])"
            ]
          },
          "metadata": {
            "tags": []
          },
          "execution_count": 99
        }
      ]
    },
    {
      "cell_type": "code",
      "metadata": {
        "id": "dgzoHfVUaqvD",
        "colab_type": "code",
        "colab": {
          "base_uri": "https://localhost:8080/",
          "height": 69
        },
        "outputId": "cd1f774c-bbc6-4cc2-ac8f-8e45944e9212"
      },
      "source": [
        "h.transpose()"
      ],
      "execution_count": 100,
      "outputs": [
        {
          "output_type": "execute_result",
          "data": {
            "text/plain": [
              "array([[ 0,  3,  6,  9, 12],\n",
              "       [ 1,  4,  7, 10, 13],\n",
              "       [ 2,  5,  8, 11, 14]])"
            ]
          },
          "metadata": {
            "tags": []
          },
          "execution_count": 100
        }
      ]
    },
    {
      "cell_type": "markdown",
      "metadata": {
        "id": "errmlcvIa7oC",
        "colab_type": "text"
      },
      "source": [
        "During a reshaping operation, the total number of elements in the ndarray\n",
        "object is unchanged. During a resizing operation, this number changes — it\n",
        "either decreases (“down-sizing”) or increases (“up-sizing”)."
      ]
    },
    {
      "cell_type": "code",
      "metadata": {
        "id": "InDh4nQFaygz",
        "colab_type": "code",
        "colab": {
          "base_uri": "https://localhost:8080/",
          "height": 34
        },
        "outputId": "1e03f839-7fca-406c-9d46-b4829c036dc5"
      },
      "source": [
        "g"
      ],
      "execution_count": 101,
      "outputs": [
        {
          "output_type": "execute_result",
          "data": {
            "text/plain": [
              "array([ 0,  1,  2,  3,  4,  5,  6,  7,  8,  9, 10, 11, 12, 13, 14])"
            ]
          },
          "metadata": {
            "tags": []
          },
          "execution_count": 101
        }
      ]
    },
    {
      "cell_type": "code",
      "metadata": {
        "id": "a4MsH0dta9vQ",
        "colab_type": "code",
        "colab": {
          "base_uri": "https://localhost:8080/",
          "height": 104
        },
        "outputId": "7dc25ca8-8fa7-4bc6-9221-537c1c6b730e"
      },
      "source": [
        "np.resize(g, (5,4))"
      ],
      "execution_count": 103,
      "outputs": [
        {
          "output_type": "execute_result",
          "data": {
            "text/plain": [
              "array([[ 0,  1,  2,  3],\n",
              "       [ 4,  5,  6,  7],\n",
              "       [ 8,  9, 10, 11],\n",
              "       [12, 13, 14,  0],\n",
              "       [ 1,  2,  3,  4]])"
            ]
          },
          "metadata": {
            "tags": []
          },
          "execution_count": 103
        }
      ]
    },
    {
      "cell_type": "markdown",
      "metadata": {
        "id": "7z9I_hJGbM9X",
        "colab_type": "text"
      },
      "source": [
        "***Stacking*** is a special operation that allows the horizontal or vertical\n",
        "combination of two ndarray objects. However, the size of the “connecting”\n",
        "dimension must be the same:"
      ]
    },
    {
      "cell_type": "code",
      "metadata": {
        "id": "-VuYRhwsbBlf",
        "colab_type": "code",
        "colab": {
          "base_uri": "https://localhost:8080/",
          "height": 104
        },
        "outputId": "6468c30b-26bb-459d-9446-a6bc63541fb9"
      },
      "source": [
        "h"
      ],
      "execution_count": 104,
      "outputs": [
        {
          "output_type": "execute_result",
          "data": {
            "text/plain": [
              "array([[ 0,  1,  2],\n",
              "       [ 3,  4,  5],\n",
              "       [ 6,  7,  8],\n",
              "       [ 9, 10, 11],\n",
              "       [12, 13, 14]])"
            ]
          },
          "metadata": {
            "tags": []
          },
          "execution_count": 104
        }
      ]
    },
    {
      "cell_type": "code",
      "metadata": {
        "id": "dX0pa7ojd_0s",
        "colab_type": "code",
        "colab": {
          "base_uri": "https://localhost:8080/",
          "height": 104
        },
        "outputId": "6ae82758-9390-4f7d-d05a-71ac28cf2638"
      },
      "source": [
        "np.hstack((h, 2 * h))"
      ],
      "execution_count": 106,
      "outputs": [
        {
          "output_type": "execute_result",
          "data": {
            "text/plain": [
              "array([[ 0,  1,  2,  0,  2,  4],\n",
              "       [ 3,  4,  5,  6,  8, 10],\n",
              "       [ 6,  7,  8, 12, 14, 16],\n",
              "       [ 9, 10, 11, 18, 20, 22],\n",
              "       [12, 13, 14, 24, 26, 28]])"
            ]
          },
          "metadata": {
            "tags": []
          },
          "execution_count": 106
        }
      ]
    },
    {
      "cell_type": "code",
      "metadata": {
        "id": "X4Dsbow0eDD8",
        "colab_type": "code",
        "colab": {
          "base_uri": "https://localhost:8080/",
          "height": 191
        },
        "outputId": "137e526b-4ea5-4138-eee8-1a29c1a5744d"
      },
      "source": [
        "np.vstack((h, 0.5 * h))"
      ],
      "execution_count": 107,
      "outputs": [
        {
          "output_type": "execute_result",
          "data": {
            "text/plain": [
              "array([[ 0. ,  1. ,  2. ],\n",
              "       [ 3. ,  4. ,  5. ],\n",
              "       [ 6. ,  7. ,  8. ],\n",
              "       [ 9. , 10. , 11. ],\n",
              "       [12. , 13. , 14. ],\n",
              "       [ 0. ,  0.5,  1. ],\n",
              "       [ 1.5,  2. ,  2.5],\n",
              "       [ 3. ,  3.5,  4. ],\n",
              "       [ 4.5,  5. ,  5.5],\n",
              "       [ 6. ,  6.5,  7. ]])"
            ]
          },
          "metadata": {
            "tags": []
          },
          "execution_count": 107
        }
      ]
    },
    {
      "cell_type": "code",
      "metadata": {
        "id": "2EQBVet5eJgY",
        "colab_type": "code",
        "colab": {
          "base_uri": "https://localhost:8080/",
          "height": 104
        },
        "outputId": "2874bd2e-79bc-4986-c0c5-34f586686355"
      },
      "source": [
        "h"
      ],
      "execution_count": 108,
      "outputs": [
        {
          "output_type": "execute_result",
          "data": {
            "text/plain": [
              "array([[ 0,  1,  2],\n",
              "       [ 3,  4,  5],\n",
              "       [ 6,  7,  8],\n",
              "       [ 9, 10, 11],\n",
              "       [12, 13, 14]])"
            ]
          },
          "metadata": {
            "tags": []
          },
          "execution_count": 108
        }
      ]
    },
    {
      "cell_type": "code",
      "metadata": {
        "id": "GkUt-ynEeaJu",
        "colab_type": "code",
        "colab": {
          "base_uri": "https://localhost:8080/",
          "height": 34
        },
        "outputId": "fe72656f-8584-4bcb-fb5d-6230ff8d58e1"
      },
      "source": [
        "h.flatten(order = \"C\")"
      ],
      "execution_count": 110,
      "outputs": [
        {
          "output_type": "execute_result",
          "data": {
            "text/plain": [
              "array([ 0,  1,  2,  3,  4,  5,  6,  7,  8,  9, 10, 11, 12, 13, 14])"
            ]
          },
          "metadata": {
            "tags": []
          },
          "execution_count": 110
        }
      ]
    },
    {
      "cell_type": "code",
      "metadata": {
        "id": "r4cnZp-lebU0",
        "colab_type": "code",
        "colab": {
          "base_uri": "https://localhost:8080/",
          "height": 34
        },
        "outputId": "60075d47-ce68-42d6-9de8-2ffdd83e18dd"
      },
      "source": [
        "h.flatten(order = \"F\")"
      ],
      "execution_count": 111,
      "outputs": [
        {
          "output_type": "execute_result",
          "data": {
            "text/plain": [
              "array([ 0,  3,  6,  9, 12,  1,  4,  7, 10, 13,  2,  5,  8, 11, 14])"
            ]
          },
          "metadata": {
            "tags": []
          },
          "execution_count": 111
        }
      ]
    },
    {
      "cell_type": "code",
      "metadata": {
        "id": "Hm_INFwWegrV",
        "colab_type": "code",
        "colab": {
          "base_uri": "https://localhost:8080/",
          "height": 104
        },
        "outputId": "e7a454f0-0b50-44a4-9d98-7cba71e05bf7"
      },
      "source": [
        "h "
      ],
      "execution_count": 112,
      "outputs": [
        {
          "output_type": "execute_result",
          "data": {
            "text/plain": [
              "array([[ 0,  1,  2],\n",
              "       [ 3,  4,  5],\n",
              "       [ 6,  7,  8],\n",
              "       [ 9, 10, 11],\n",
              "       [12, 13, 14]])"
            ]
          },
          "metadata": {
            "tags": []
          },
          "execution_count": 112
        }
      ]
    },
    {
      "cell_type": "code",
      "metadata": {
        "id": "Kt8zQOivhg8x",
        "colab_type": "code",
        "colab": {
          "base_uri": "https://localhost:8080/",
          "height": 104
        },
        "outputId": "b442cbb4-4de8-4233-ee85-d43b40caf122"
      },
      "source": [
        "h > 5"
      ],
      "execution_count": 113,
      "outputs": [
        {
          "output_type": "execute_result",
          "data": {
            "text/plain": [
              "array([[False, False, False],\n",
              "       [False, False, False],\n",
              "       [ True,  True,  True],\n",
              "       [ True,  True,  True],\n",
              "       [ True,  True,  True]])"
            ]
          },
          "metadata": {
            "tags": []
          },
          "execution_count": 113
        }
      ]
    },
    {
      "cell_type": "code",
      "metadata": {
        "id": "uR8gcYvDhl9B",
        "colab_type": "code",
        "colab": {
          "base_uri": "https://localhost:8080/",
          "height": 104
        },
        "outputId": "55da699b-265c-4188-dcbb-92f4a402ad9c"
      },
      "source": [
        "(h > 5).astype(int)"
      ],
      "execution_count": 114,
      "outputs": [
        {
          "output_type": "execute_result",
          "data": {
            "text/plain": [
              "array([[0, 0, 0],\n",
              "       [0, 0, 0],\n",
              "       [1, 1, 1],\n",
              "       [1, 1, 1],\n",
              "       [1, 1, 1]])"
            ]
          },
          "metadata": {
            "tags": []
          },
          "execution_count": 114
        }
      ]
    },
    {
      "cell_type": "markdown",
      "metadata": {
        "id": "U_L0GUlrh0eA",
        "colab_type": "text"
      },
      "source": [
        "Such Boolean arrays can be used for indexing and data selection. Notice\n",
        "that the following operations flatten the data:"
      ]
    },
    {
      "cell_type": "code",
      "metadata": {
        "id": "M2gH8HxWhpLa",
        "colab_type": "code",
        "colab": {
          "base_uri": "https://localhost:8080/",
          "height": 34
        },
        "outputId": "dc4f6a65-3203-4c8f-83f2-fb88fcefbdc5"
      },
      "source": [
        "h[h > 5]"
      ],
      "execution_count": 115,
      "outputs": [
        {
          "output_type": "execute_result",
          "data": {
            "text/plain": [
              "array([ 6,  7,  8,  9, 10, 11, 12, 13, 14])"
            ]
          },
          "metadata": {
            "tags": []
          },
          "execution_count": 115
        }
      ]
    },
    {
      "cell_type": "markdown",
      "metadata": {
        "id": "vzLbdC_EiEXd",
        "colab_type": "text"
      },
      "source": [
        "A powerful tool in this regard is the **np.where()** function, which allows the\n",
        "definition of actions/operations depending on whether a condition is True or\n",
        "False . The result of applying np.where() is a new ndarray object of the\n",
        "same shape as the original one:"
      ]
    },
    {
      "cell_type": "code",
      "metadata": {
        "id": "6DfkVHCQhvzj",
        "colab_type": "code",
        "colab": {
          "base_uri": "https://localhost:8080/",
          "height": 104
        },
        "outputId": "a6606851-0538-4072-d04f-46a171fb20f6"
      },
      "source": [
        "np.where(h > 7, 1, 0)"
      ],
      "execution_count": 116,
      "outputs": [
        {
          "output_type": "execute_result",
          "data": {
            "text/plain": [
              "array([[0, 0, 0],\n",
              "       [0, 0, 0],\n",
              "       [0, 0, 1],\n",
              "       [1, 1, 1],\n",
              "       [1, 1, 1]])"
            ]
          },
          "metadata": {
            "tags": []
          },
          "execution_count": 116
        }
      ]
    },
    {
      "cell_type": "code",
      "metadata": {
        "id": "9JTVxwJGiu5B",
        "colab_type": "code",
        "colab": {
          "base_uri": "https://localhost:8080/",
          "height": 104
        },
        "outputId": "243115ca-4c63-4ffc-96b0-5dc92d681b1c"
      },
      "source": [
        "np.where(h % 2 == 0, \"even\", \"odd\")"
      ],
      "execution_count": 117,
      "outputs": [
        {
          "output_type": "execute_result",
          "data": {
            "text/plain": [
              "array([['even', 'odd', 'even'],\n",
              "       ['odd', 'even', 'odd'],\n",
              "       ['even', 'odd', 'even'],\n",
              "       ['odd', 'even', 'odd'],\n",
              "       ['even', 'odd', 'even']], dtype='<U4')"
            ]
          },
          "metadata": {
            "tags": []
          },
          "execution_count": 117
        }
      ]
    },
    {
      "cell_type": "code",
      "metadata": {
        "id": "vOVCa5Q9i07D",
        "colab_type": "code",
        "colab": {
          "base_uri": "https://localhost:8080/",
          "height": 104
        },
        "outputId": "92da35d2-608c-41f1-9c3a-4690aefe1f07"
      },
      "source": [
        "np.where(h <= 7, h * 2, h / 2)"
      ],
      "execution_count": 118,
      "outputs": [
        {
          "output_type": "execute_result",
          "data": {
            "text/plain": [
              "array([[ 0. ,  2. ,  4. ],\n",
              "       [ 6. ,  8. , 10. ],\n",
              "       [12. , 14. ,  4. ],\n",
              "       [ 4.5,  5. ,  5.5],\n",
              "       [ 6. ,  6.5,  7. ]])"
            ]
          },
          "metadata": {
            "tags": []
          },
          "execution_count": 118
        }
      ]
    },
    {
      "cell_type": "markdown",
      "metadata": {
        "id": "HdF5Vx4BlDhZ",
        "colab_type": "text"
      },
      "source": [
        "***Structured NumPy Arrays -***\n",
        "Structured arrays are a generalization of the regular ndarray\n",
        "object type in that the data type only has to be the same per column, like in\n",
        "tables in SQL databases. One advantage of structured arrays is that a single\n",
        "element of a column can be another multidimensional object and does not\n",
        "have to conform to the basic NumPy data types."
      ]
    },
    {
      "cell_type": "code",
      "metadata": {
        "id": "CkIwdTu6i-JT",
        "colab_type": "code",
        "colab": {}
      },
      "source": [
        "dt = np.dtype([('Name', 'S10'), ('Age', 'i4'), ('Height', 'f'), ('Children/Pets', 'i4', 2)])"
      ],
      "execution_count": 121,
      "outputs": []
    },
    {
      "cell_type": "code",
      "metadata": {
        "id": "CDQh_416kww8",
        "colab_type": "code",
        "colab": {
          "base_uri": "https://localhost:8080/",
          "height": 34
        },
        "outputId": "2abae0c1-68fc-4d3a-8917-37d7c19777f1"
      },
      "source": [
        "dt"
      ],
      "execution_count": 122,
      "outputs": [
        {
          "output_type": "execute_result",
          "data": {
            "text/plain": [
              "dtype([('Name', 'S10'), ('Age', '<i4'), ('Height', '<f4'), ('Children/Pets', '<i4', (2,))])"
            ]
          },
          "metadata": {
            "tags": []
          },
          "execution_count": 122
        }
      ]
    },
    {
      "cell_type": "code",
      "metadata": {
        "id": "SRMFsxk4ldUT",
        "colab_type": "code",
        "colab": {}
      },
      "source": [
        "#An alternative syntax to achieve the same result.\n",
        "dt = np.dtype({'names': ['Name', 'Age', 'Height', 'Children/Pets'], 'formats':'O int float int,int'.split()})"
      ],
      "execution_count": 123,
      "outputs": []
    },
    {
      "cell_type": "code",
      "metadata": {
        "id": "-FGFuYJpl5-1",
        "colab_type": "code",
        "colab": {
          "base_uri": "https://localhost:8080/",
          "height": 34
        },
        "outputId": "d92495c7-7467-4d7b-c853-c41952bf1fac"
      },
      "source": [
        "dt"
      ],
      "execution_count": 124,
      "outputs": [
        {
          "output_type": "execute_result",
          "data": {
            "text/plain": [
              "dtype([('Name', 'O'), ('Age', '<i8'), ('Height', '<f8'), ('Children/Pets', [('f0', '<i8'), ('f1', '<i8')])])"
            ]
          },
          "metadata": {
            "tags": []
          },
          "execution_count": 124
        }
      ]
    },
    {
      "cell_type": "code",
      "metadata": {
        "id": "9pUQOMhZmFOO",
        "colab_type": "code",
        "colab": {}
      },
      "source": [
        "s = np.array([('Smith', 45, 1.83, (0, 1)), ('Jones', 53, 1.72, (2, 2))], dtype=dt)"
      ],
      "execution_count": 125,
      "outputs": []
    },
    {
      "cell_type": "code",
      "metadata": {
        "id": "bYzoyDgFmQ62",
        "colab_type": "code",
        "colab": {
          "base_uri": "https://localhost:8080/",
          "height": 52
        },
        "outputId": "07105229-0385-4e98-b8ef-111b85ff5d69"
      },
      "source": [
        "s"
      ],
      "execution_count": 128,
      "outputs": [
        {
          "output_type": "execute_result",
          "data": {
            "text/plain": [
              "array([('Smith', 45, 1.83, (0, 1)), ('Jones', 53, 1.72, (2, 2))],\n",
              "      dtype=[('Name', 'O'), ('Age', '<i8'), ('Height', '<f8'), ('Children/Pets', [('f0', '<i8'), ('f1', '<i8')])])"
            ]
          },
          "metadata": {
            "tags": []
          },
          "execution_count": 128
        }
      ]
    },
    {
      "cell_type": "code",
      "metadata": {
        "id": "iv0sS4FjmRhR",
        "colab_type": "code",
        "colab": {
          "base_uri": "https://localhost:8080/",
          "height": 34
        },
        "outputId": "7110b672-f715-440c-e428-cfc6f602511a"
      },
      "source": [
        "#The object type is still ndarray .\n",
        "type(s)"
      ],
      "execution_count": 129,
      "outputs": [
        {
          "output_type": "execute_result",
          "data": {
            "text/plain": [
              "numpy.ndarray"
            ]
          },
          "metadata": {
            "tags": []
          },
          "execution_count": 129
        }
      ]
    },
    {
      "cell_type": "markdown",
      "metadata": {
        "id": "RzTKTwX2ncrz",
        "colab_type": "text"
      },
      "source": [
        "In a sense, this construction comes quite close to the operation for\n",
        "initializing tables in a SQL database: one has column names and column\n",
        "data types, with maybe some additional information (e.g., maximum\n",
        "number of characters per str object).\n",
        "\n",
        "The single columns can now be easily\n",
        "accessed by their names and the rows by their index values:"
      ]
    },
    {
      "cell_type": "code",
      "metadata": {
        "id": "4NH4f8PLmX_w",
        "colab_type": "code",
        "colab": {
          "base_uri": "https://localhost:8080/",
          "height": 34
        },
        "outputId": "196d1a24-e52e-4fe6-da4d-bf2892e66805"
      },
      "source": [
        "s[\"Name\"]"
      ],
      "execution_count": 130,
      "outputs": [
        {
          "output_type": "execute_result",
          "data": {
            "text/plain": [
              "array(['Smith', 'Jones'], dtype=object)"
            ]
          },
          "metadata": {
            "tags": []
          },
          "execution_count": 130
        }
      ]
    },
    {
      "cell_type": "code",
      "metadata": {
        "id": "wr_lhVbhne9e",
        "colab_type": "code",
        "colab": {
          "base_uri": "https://localhost:8080/",
          "height": 34
        },
        "outputId": "3113f6fa-f0fd-4387-bec1-8526b4adfd2d"
      },
      "source": [
        "s[\"Height\"].mean()"
      ],
      "execution_count": 131,
      "outputs": [
        {
          "output_type": "execute_result",
          "data": {
            "text/plain": [
              "1.775"
            ]
          },
          "metadata": {
            "tags": []
          },
          "execution_count": 131
        }
      ]
    },
    {
      "cell_type": "code",
      "metadata": {
        "id": "rM_sxMdPnhb1",
        "colab_type": "code",
        "colab": {
          "base_uri": "https://localhost:8080/",
          "height": 34
        },
        "outputId": "a8598b4a-a971-4991-c4ee-d94ccccfad9a"
      },
      "source": [
        "s[0]"
      ],
      "execution_count": 132,
      "outputs": [
        {
          "output_type": "execute_result",
          "data": {
            "text/plain": [
              "('Smith', 45, 1.83, (0, 1))"
            ]
          },
          "metadata": {
            "tags": []
          },
          "execution_count": 132
        }
      ]
    },
    {
      "cell_type": "code",
      "metadata": {
        "id": "pxpE0qr-niQg",
        "colab_type": "code",
        "colab": {
          "base_uri": "https://localhost:8080/",
          "height": 34
        },
        "outputId": "40f13829-58a4-4c9e-ad60-25788c86931e"
      },
      "source": [
        "s[1][\"Age\"]"
      ],
      "execution_count": 133,
      "outputs": [
        {
          "output_type": "execute_result",
          "data": {
            "text/plain": [
              "53"
            ]
          },
          "metadata": {
            "tags": []
          },
          "execution_count": 133
        }
      ]
    },
    {
      "cell_type": "markdown",
      "metadata": {
        "id": "5DLqbJ-QoGUr",
        "colab_type": "text"
      },
      "source": [
        "***Vectorization of Code -***\n",
        "\n",
        "Vectorization is a strategy to get more compact code that is possibly\n",
        "executed faster. The fundamental idea is to conduct an operation on or to\n",
        "apply a function to a complex object “at once” and not by looping over the\n",
        "single elements of the object. In Python, functional programming tools such\n",
        "as map() and filter() provide some basic means for vectorization.\n",
        "However, NumPy has vectorization built in deep down in its core.\n",
        "\n",
        "**Broadcasting :** This allows you to\n",
        "combine objects of different shape within a single operation."
      ]
    },
    {
      "cell_type": "code",
      "metadata": {
        "id": "2e9OE5Mknjpe",
        "colab_type": "code",
        "colab": {
          "base_uri": "https://localhost:8080/",
          "height": 86
        },
        "outputId": "436501ab-f620-4ddd-b0cb-3d433570c31c"
      },
      "source": [
        "r = np.arange(12).reshape((4, 3))\n",
        "r"
      ],
      "execution_count": 135,
      "outputs": [
        {
          "output_type": "execute_result",
          "data": {
            "text/plain": [
              "array([[ 0,  1,  2],\n",
              "       [ 3,  4,  5],\n",
              "       [ 6,  7,  8],\n",
              "       [ 9, 10, 11]])"
            ]
          },
          "metadata": {
            "tags": []
          },
          "execution_count": 135
        }
      ]
    },
    {
      "cell_type": "code",
      "metadata": {
        "id": "IZ21PKTnpq-J",
        "colab_type": "code",
        "colab": {
          "base_uri": "https://localhost:8080/",
          "height": 86
        },
        "outputId": "a7a02b56-9a8f-4783-e8e6-36db5db20fbc"
      },
      "source": [
        "r + 3"
      ],
      "execution_count": 136,
      "outputs": [
        {
          "output_type": "execute_result",
          "data": {
            "text/plain": [
              "array([[ 3,  4,  5],\n",
              "       [ 6,  7,  8],\n",
              "       [ 9, 10, 11],\n",
              "       [12, 13, 14]])"
            ]
          },
          "metadata": {
            "tags": []
          },
          "execution_count": 136
        }
      ]
    },
    {
      "cell_type": "code",
      "metadata": {
        "id": "pcj0f9fDpt9E",
        "colab_type": "code",
        "colab": {
          "base_uri": "https://localhost:8080/",
          "height": 34
        },
        "outputId": "42286152-9dd9-414b-de8d-4cfb713a5011"
      },
      "source": [
        "s = np.arange(0,12,4)\n",
        "s"
      ],
      "execution_count": 137,
      "outputs": [
        {
          "output_type": "execute_result",
          "data": {
            "text/plain": [
              "array([0, 4, 8])"
            ]
          },
          "metadata": {
            "tags": []
          },
          "execution_count": 137
        }
      ]
    },
    {
      "cell_type": "code",
      "metadata": {
        "id": "a4aNYMO6p28a",
        "colab_type": "code",
        "colab": {
          "base_uri": "https://localhost:8080/",
          "height": 86
        },
        "outputId": "45ba8759-f449-4c3d-91b3-57b745041d4a"
      },
      "source": [
        "r + s"
      ],
      "execution_count": 138,
      "outputs": [
        {
          "output_type": "execute_result",
          "data": {
            "text/plain": [
              "array([[ 0,  5, 10],\n",
              "       [ 3,  8, 13],\n",
              "       [ 6, 11, 16],\n",
              "       [ 9, 14, 19]])"
            ]
          },
          "metadata": {
            "tags": []
          },
          "execution_count": 138
        }
      ]
    },
    {
      "cell_type": "markdown",
      "metadata": {
        "id": "xPqHk917qBgS",
        "colab_type": "text"
      },
      "source": [
        "These operations work with differently shaped ndarray objects as well, up\n",
        "to a certain point:"
      ]
    },
    {
      "cell_type": "code",
      "metadata": {
        "id": "DvKbd8msp7_C",
        "colab_type": "code",
        "colab": {
          "base_uri": "https://localhost:8080/",
          "height": 34
        },
        "outputId": "603d7283-7062-4ff6-bb7a-741126a750fa"
      },
      "source": [
        "s = np.arange(0,12,3)\n",
        "s"
      ],
      "execution_count": 141,
      "outputs": [
        {
          "output_type": "execute_result",
          "data": {
            "text/plain": [
              "array([0, 3, 6, 9])"
            ]
          },
          "metadata": {
            "tags": []
          },
          "execution_count": 141
        }
      ]
    },
    {
      "cell_type": "code",
      "metadata": {
        "id": "gFYkAc--qQE1",
        "colab_type": "code",
        "colab": {
          "base_uri": "https://localhost:8080/",
          "height": 167
        },
        "outputId": "88c1d235-d8ad-4e90-b374-160f14acaf77"
      },
      "source": [
        "r + s"
      ],
      "execution_count": 142,
      "outputs": [
        {
          "output_type": "error",
          "ename": "ValueError",
          "evalue": "ignored",
          "traceback": [
            "\u001b[0;31m---------------------------------------------------------------------------\u001b[0m",
            "\u001b[0;31mValueError\u001b[0m                                Traceback (most recent call last)",
            "\u001b[0;32m<ipython-input-142-8597a67c36bf>\u001b[0m in \u001b[0;36m<module>\u001b[0;34m()\u001b[0m\n\u001b[0;32m----> 1\u001b[0;31m \u001b[0mr\u001b[0m \u001b[0;34m+\u001b[0m \u001b[0ms\u001b[0m\u001b[0;34m\u001b[0m\u001b[0;34m\u001b[0m\u001b[0m\n\u001b[0m",
            "\u001b[0;31mValueError\u001b[0m: operands could not be broadcast together with shapes (4,3) (4,) "
          ]
        }
      ]
    },
    {
      "cell_type": "code",
      "metadata": {
        "id": "LzQmWUZlqTMS",
        "colab_type": "code",
        "colab": {
          "base_uri": "https://localhost:8080/",
          "height": 69
        },
        "outputId": "e26a1e08-9aaa-4ab7-d4b7-03ae63742409"
      },
      "source": [
        "r.T + s"
      ],
      "execution_count": 143,
      "outputs": [
        {
          "output_type": "execute_result",
          "data": {
            "text/plain": [
              "array([[ 0,  6, 12, 18],\n",
              "       [ 1,  7, 13, 19],\n",
              "       [ 2,  8, 14, 20]])"
            ]
          },
          "metadata": {
            "tags": []
          },
          "execution_count": 143
        }
      ]
    },
    {
      "cell_type": "code",
      "metadata": {
        "id": "HdTEfBQrqXjK",
        "colab_type": "code",
        "colab": {
          "base_uri": "https://localhost:8080/",
          "height": 86
        },
        "outputId": "19295de2-8078-44ce-e688-a75f8e03dba9"
      },
      "source": [
        "sr = s.reshape(-1,1)\n",
        "sr"
      ],
      "execution_count": 145,
      "outputs": [
        {
          "output_type": "execute_result",
          "data": {
            "text/plain": [
              "array([[0],\n",
              "       [3],\n",
              "       [6],\n",
              "       [9]])"
            ]
          },
          "metadata": {
            "tags": []
          },
          "execution_count": 145
        }
      ]
    },
    {
      "cell_type": "code",
      "metadata": {
        "id": "3ZG5_x1VqnBv",
        "colab_type": "code",
        "colab": {
          "base_uri": "https://localhost:8080/",
          "height": 86
        },
        "outputId": "d7d2478f-5ea8-46f7-8217-ca51f8038413"
      },
      "source": [
        "r + sr"
      ],
      "execution_count": 146,
      "outputs": [
        {
          "output_type": "execute_result",
          "data": {
            "text/plain": [
              "array([[ 0,  1,  2],\n",
              "       [ 6,  7,  8],\n",
              "       [12, 13, 14],\n",
              "       [18, 19, 20]])"
            ]
          },
          "metadata": {
            "tags": []
          },
          "execution_count": 146
        }
      ]
    },
    {
      "cell_type": "markdown",
      "metadata": {
        "id": "oesC3m48yvE6",
        "colab_type": "text"
      },
      "source": [
        "On the NumPy level, looping over the ndarray object is taken care of by optimized code, most of it written in C and therefore generally faster than pure Python. This explains the \" secret \" behind the performance benefits of using NumPy for array-based use cases.\n",
        "\n",
        "***Memory Layout -***\n",
        "\n",
        "When ndarray objects are initialized by using np.zeros() , as in “Multiple\n",
        "Dimensions”, an optional argument for the memory layout is provided. This\n",
        "argument specifies, roughly speaking, which elements of an array get stored\n",
        "in memory next to each other (contiguously). When working with small\n",
        "arrays, this has hardly any measurable impact on the performance of array\n",
        "operations. However, when arrays get large, and depending on the\n",
        "(financial) algorithm to be implemented on them, the story might be\n",
        "different. This is when memory layout comes into play\n",
        "\n",
        "Consider the following construction of\n",
        "multidimensional ndarray objects:"
      ]
    },
    {
      "cell_type": "code",
      "metadata": {
        "id": "0DqlOhjuqqes",
        "colab_type": "code",
        "colab": {
          "base_uri": "https://localhost:8080/",
          "height": 139
        },
        "outputId": "0f88470f-87d6-43eb-ae35-ce2a77e7c816"
      },
      "source": [
        "x = np.random.standard_normal((1000000, 5))\n",
        "x"
      ],
      "execution_count": 157,
      "outputs": [
        {
          "output_type": "execute_result",
          "data": {
            "text/plain": [
              "array([[ 0.88856452,  0.51274549,  0.92123913,  0.79005258, -1.53495154],\n",
              "       [ 0.84872973,  0.69921004, -0.53638366,  0.05992931, -0.87694289],\n",
              "       [ 1.22574041, -0.00375774,  0.5185445 ,  0.27948334,  0.19083482],\n",
              "       ...,\n",
              "       [-0.31248747, -0.89688893, -0.7838734 ,  1.30445266, -0.36016444],\n",
              "       [ 0.14502176, -0.69081802, -1.72543806,  1.46816233,  1.39259037],\n",
              "       [ 0.86040368,  1.12537485, -0.90881135, -1.60113848, -0.61654879]])"
            ]
          },
          "metadata": {
            "tags": []
          },
          "execution_count": 157
        }
      ]
    },
    {
      "cell_type": "code",
      "metadata": {
        "id": "YnLZNqbZzkO_",
        "colab_type": "code",
        "colab": {}
      },
      "source": [
        "y = 2 * x + 3"
      ],
      "execution_count": 148,
      "outputs": []
    },
    {
      "cell_type": "code",
      "metadata": {
        "id": "7xBQnQHYzoe6",
        "colab_type": "code",
        "colab": {}
      },
      "source": [
        "C = np.array((x,y), order = \"C\")"
      ],
      "execution_count": 149,
      "outputs": []
    },
    {
      "cell_type": "code",
      "metadata": {
        "id": "PlSVCjJzztF0",
        "colab_type": "code",
        "colab": {}
      },
      "source": [
        "F = np.array((x,y), order = \"F\")"
      ],
      "execution_count": 150,
      "outputs": []
    },
    {
      "cell_type": "code",
      "metadata": {
        "id": "W6YeK8yPzvi8",
        "colab_type": "code",
        "colab": {}
      },
      "source": [
        "#Memory is freed up (contingent on garbage collection).\n",
        "x = 0.0; y = 0.0"
      ],
      "execution_count": 152,
      "outputs": []
    },
    {
      "cell_type": "code",
      "metadata": {
        "id": "r0KMq0MPzzMx",
        "colab_type": "code",
        "colab": {
          "base_uri": "https://localhost:8080/",
          "height": 278
        },
        "outputId": "73fc51dd-faf1-404c-d950-ebc410d6f938"
      },
      "source": [
        "C[:2].round(2)"
      ],
      "execution_count": 156,
      "outputs": [
        {
          "output_type": "execute_result",
          "data": {
            "text/plain": [
              "array([[[-1.75,  0.34,  1.15, -0.25,  0.98],\n",
              "        [ 0.51,  0.22, -1.07, -0.19,  0.26],\n",
              "        [-0.46,  0.44, -0.58,  0.82,  0.67],\n",
              "        ...,\n",
              "        [-0.05,  0.14,  0.17,  0.33,  1.39],\n",
              "        [ 1.02,  0.3 , -1.23, -0.68, -0.87],\n",
              "        [ 0.83, -0.73,  1.03,  0.34, -0.46]],\n",
              "\n",
              "       [[-0.5 ,  3.69,  5.31,  2.5 ,  4.96],\n",
              "        [ 4.03,  3.44,  0.86,  2.62,  3.51],\n",
              "        [ 2.08,  3.87,  1.83,  4.63,  4.35],\n",
              "        ...,\n",
              "        [ 2.9 ,  3.28,  3.33,  3.67,  5.78],\n",
              "        [ 5.04,  3.6 ,  0.54,  1.65,  1.26],\n",
              "        [ 4.67,  1.54,  5.06,  3.69,  2.07]]])"
            ]
          },
          "metadata": {
            "tags": []
          },
          "execution_count": 156
        }
      ]
    },
    {
      "cell_type": "code",
      "metadata": {
        "id": "gAHrlI_C0AMP",
        "colab_type": "code",
        "colab": {}
      },
      "source": [
        ""
      ],
      "execution_count": null,
      "outputs": []
    }
  ]
}